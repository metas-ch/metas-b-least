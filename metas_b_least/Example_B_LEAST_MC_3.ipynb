{
 "cells": [
  {
   "cell_type": "markdown",
   "metadata": {},
   "source": [
    "# Example B LEAST Monte Carlo 3\n",
    "\n",
    "Michael Wollensack METAS - 08.11.2024"
   ]
  },
  {
   "cell_type": "code",
   "execution_count": 1,
   "metadata": {},
   "outputs": [],
   "source": [
    "from metas_b_least import *"
   ]
  },
  {
   "cell_type": "markdown",
   "metadata": {},
   "source": [
    "Calibration and measurement data"
   ]
  },
  {
   "cell_type": "code",
   "execution_count": 2,
   "metadata": {},
   "outputs": [
    {
     "name": "stdout",
     "output_type": "stream",
     "text": [
      "Calibration data:\n",
      "[[1.00058016e+00 1.33001686e-03 9.63853136e+02 1.41139367e+01]\n",
      " [1.00099755e+00 1.09827399e-03 9.66357880e+02 1.23963686e+01]\n",
      " [1.99945051e+00 3.20696536e-03 1.91259763e+03 1.68036587e+01]\n",
      " [3.00169592e+00 3.38321434e-03 2.84701859e+03 1.16287238e+01]\n",
      " [3.99823724e+00 5.77817966e-03 3.75476910e+03 1.09530262e+01]\n",
      " [4.00438164e+00 5.80452803e-03 3.76460050e+03 1.22140773e+01]\n",
      " [4.99820599e+00 5.83886399e-03 4.64707204e+03 1.43565220e+01]\n",
      " [5.99620331e+00 7.74206166e-03 5.53014596e+03 1.20249803e+01]\n",
      " [7.99733580e+00 8.37890237e-03 7.24593974e+03 1.18334136e+01]\n",
      " [7.99955881e+00 9.95458156e-03 7.24036664e+03 1.06555310e+01]\n",
      " [9.99798499e+00 1.20760936e-02 8.88469360e+03 1.00789679e+01]\n",
      " [1.00060005e+01 1.03895148e-02 8.90268500e+03 1.41230202e+01]]\n"
     ]
    }
   ],
   "source": [
    "cal_data = b_read_cal_data(os.path.join(data_dir, 'b_least_3_data_cal.txt'))\n",
    "meas_data = b_read_meas_data(os.path.join(data_dir, 'b_least_3_data_meas.txt'))\n",
    "nsamples = 10000\n",
    "cal_samples = b_sample_cal_data_mc(cal_data, nsamples)\n",
    "meas_samples = b_sample_meas_data_mc(meas_data, nsamples) \n",
    "b_disp_cal_data_mc(cal_samples)"
   ]
  },
  {
   "cell_type": "markdown",
   "metadata": {},
   "source": [
    "## Linear function"
   ]
  },
  {
   "cell_type": "markdown",
   "metadata": {},
   "source": [
    "Fit coefficients of the fit function using the calibration data"
   ]
  },
  {
   "cell_type": "code",
   "execution_count": 3,
   "metadata": {},
   "outputs": [
    {
     "name": "stdout",
     "output_type": "stream",
     "text": [
      "Coefficients b\n",
      "[-0.19150431  0.00113375]\n",
      "Uncertainties u(b)\n",
      "[9.06758653e-03 1.74280337e-06]\n",
      "Covariance cov(b)\n",
      "[[ 8.22211255e-05 -1.36411770e-08]\n",
      " [-1.36411770e-08  3.03736358e-12]]\n",
      "Residual\n",
      "nan\n",
      "Maximum absolute value of weighted deviations\n",
      "nan\n"
     ]
    }
   ],
   "source": [
    "b_samples_1 = b_least_mc(cal_samples, b_linear_func)\n",
    "b_disp_cal_results_mc(b_samples_1)"
   ]
  },
  {
   "cell_type": "markdown",
   "metadata": {},
   "source": [
    "Evaluate the fit function with the coefficients at the measurement data"
   ]
  },
  {
   "cell_type": "code",
   "execution_count": 4,
   "metadata": {},
   "outputs": [
    {
     "name": "stdout",
     "output_type": "stream",
     "text": [
      "Measurement data:\n",
      "[[5.42111417e+00 1.32907017e-02 4.95049755e+03 1.09781154e+01]]\n"
     ]
    }
   ],
   "source": [
    "x_samples_1 = b_eval_mc(meas_samples, b_samples_1, b_linear_func)\n",
    "b_disp_meas_results_mc(x_samples_1, meas_samples)"
   ]
  },
  {
   "cell_type": "markdown",
   "metadata": {},
   "source": [
    "## Power function"
   ]
  },
  {
   "cell_type": "markdown",
   "metadata": {},
   "source": [
    "Fit coefficients of the fit function using the calibration data"
   ]
  },
  {
   "cell_type": "code",
   "execution_count": 5,
   "metadata": {},
   "outputs": [
    {
     "name": "stdout",
     "output_type": "stream",
     "text": [
      "Coefficients b\n",
      "[0.12096683 0.00051288 0.08494935]\n",
      "Uncertainties u(b)\n",
      "[1.81882030e-02 2.43029527e-05 5.09013967e-03]\n",
      "Covariance cov(b)\n",
      "[[ 3.30810729e-04 -4.01964149e-07  8.31781129e-05]\n",
      " [-4.01964149e-07  5.90633512e-10 -1.23572099e-07]\n",
      " [ 8.31781129e-05 -1.23572099e-07  2.59095218e-05]]\n",
      "Residual\n",
      "nan\n",
      "Maximum absolute value of weighted deviations\n",
      "nan\n"
     ]
    }
   ],
   "source": [
    "b_samples_2 = b_least_mc(cal_samples, b_power_func)\n",
    "b_disp_cal_results_mc(b_samples_2)"
   ]
  },
  {
   "cell_type": "markdown",
   "metadata": {},
   "source": [
    "Evaluate the fit function with the coefficients at the measurement data"
   ]
  },
  {
   "cell_type": "code",
   "execution_count": 6,
   "metadata": {},
   "outputs": [
    {
     "name": "stdout",
     "output_type": "stream",
     "text": [
      "Measurement data:\n",
      "[[5.34545437e+00 1.41710411e-02 4.95049755e+03 1.09781154e+01]]\n"
     ]
    }
   ],
   "source": [
    "x_samples_2 = b_eval_mc(meas_samples, b_samples_2, b_power_func)\n",
    "b_disp_meas_results_mc(x_samples_2, meas_samples)"
   ]
  },
  {
   "cell_type": "markdown",
   "metadata": {},
   "source": [
    "## Exponential function"
   ]
  },
  {
   "cell_type": "markdown",
   "metadata": {},
   "source": [
    "Fit coefficients of the fit function using the calibration data"
   ]
  },
  {
   "cell_type": "code",
   "execution_count": 7,
   "metadata": {},
   "outputs": [
    {
     "name": "stdout",
     "output_type": "stream",
     "text": [
      "Coefficients b\n",
      "[-4.82050474e+01  4.82104256e+01  2.12640998e-05]\n",
      "Uncertainties u(b)\n",
      "[3.23890294e+00 3.22780896e+00 1.27497411e-06]\n",
      "Covariance cov(b)\n",
      "[[ 1.04904922e+01 -1.04545267e+01  4.11278711e-06]\n",
      " [-1.04545267e+01  1.04187507e+01 -4.09881548e-06]\n",
      " [ 4.11278711e-06 -4.09881548e-06  1.62555899e-12]]\n",
      "Residual\n",
      "nan\n",
      "Maximum absolute value of weighted deviations\n",
      "nan\n"
     ]
    }
   ],
   "source": [
    "b_samples_3 = b_least_mc(cal_samples, b_exp_func)\n",
    "b_disp_cal_results_mc(b_samples_3)"
   ]
  },
  {
   "cell_type": "markdown",
   "metadata": {},
   "source": [
    "Evaluate the fit function with the coefficients at the measurement data"
   ]
  },
  {
   "cell_type": "code",
   "execution_count": 8,
   "metadata": {},
   "outputs": [
    {
     "name": "stdout",
     "output_type": "stream",
     "text": [
      "Measurement data:\n",
      "[[5.33566557e+00 1.42490351e-02 4.95049755e+03 1.09781154e+01]]\n"
     ]
    }
   ],
   "source": [
    "x_samples_3 = b_eval_mc(meas_samples, b_samples_3, b_exp_func)\n",
    "b_disp_meas_results_mc(x_samples_3, meas_samples)"
   ]
  }
 ],
 "metadata": {
  "kernelspec": {
   "display_name": "Python 3",
   "language": "python",
   "name": "python3"
  },
  "language_info": {
   "codemirror_mode": {
    "name": "ipython",
    "version": 3
   },
   "file_extension": ".py",
   "mimetype": "text/x-python",
   "name": "python",
   "nbconvert_exporter": "python",
   "pygments_lexer": "ipython3",
   "version": "3.9.13"
  }
 },
 "nbformat": 4,
 "nbformat_minor": 2
}
