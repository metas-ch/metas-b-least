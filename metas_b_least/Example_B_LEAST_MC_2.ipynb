{
 "cells": [
  {
   "cell_type": "markdown",
   "metadata": {},
   "source": [
    "# Example B LEAST Monte Carlo 2\n",
    "\n",
    "Michael Wollensack METAS - 08.11.2024"
   ]
  },
  {
   "cell_type": "code",
   "execution_count": 1,
   "metadata": {},
   "outputs": [],
   "source": [
    "from metas_b_least import *"
   ]
  },
  {
   "cell_type": "markdown",
   "metadata": {},
   "source": [
    "Calibration and measurement data"
   ]
  },
  {
   "cell_type": "code",
   "execution_count": 2,
   "metadata": {},
   "outputs": [
    {
     "name": "stdout",
     "output_type": "stream",
     "text": [
      "Calibration data:\n",
      "[[1.48754296e-03 9.04221330e-04 5.98316975e+01 3.44464684e+01]\n",
      " [1.88800539e-01 4.52197695e-04 7.78521143e+03 1.34663413e+02]\n",
      " [1.98997164e+00 4.02446500e-03 8.17003609e+04 3.67453405e+01]\n",
      " [3.79579816e+00 3.86286467e-02 1.56194248e+05 2.24578251e+02]\n",
      " [5.67699873e+00 1.25532721e-02 2.33299916e+05 1.34844002e+02]\n",
      " [7.11789391e+00 1.23941185e-02 2.92996902e+05 2.44429251e+02]\n",
      " [9.20965375e+00 1.99359607e-02 3.80599914e+05 1.25321846e+02]\n",
      " [1.08997033e+01 2.50850935e-02 4.49703774e+05 3.24994211e+02]]\n"
     ]
    }
   ],
   "source": [
    "cal_data = b_read_cal_data(os.path.join(data_dir, 'b_least_2_data_cal.txt'))\n",
    "meas_data = b_read_meas_data(os.path.join(data_dir, 'b_least_2_data_meas.txt'))\n",
    "nsamples = 10000\n",
    "cal_samples = b_sample_cal_data_mc(cal_data, nsamples)\n",
    "meas_samples = b_sample_meas_data_mc(meas_data, nsamples) \n",
    "b_disp_cal_data_mc(cal_samples)"
   ]
  },
  {
   "cell_type": "markdown",
   "metadata": {},
   "source": [
    "## Linear function"
   ]
  },
  {
   "cell_type": "markdown",
   "metadata": {},
   "source": [
    "Fit coefficients of the fit function using the calibration data"
   ]
  },
  {
   "cell_type": "code",
   "execution_count": 3,
   "metadata": {},
   "outputs": [
    {
     "name": "stdout",
     "output_type": "stream",
     "text": [
      "Coefficients b\n",
      "[3.87314601e-04 2.42844293e-05]\n",
      "Uncertainties u(b)\n",
      "[1.13303537e-03 2.40767827e-08]\n",
      "Covariance cov(b)\n",
      "[[ 1.28376916e-06 -7.03625806e-12]\n",
      " [-7.03625806e-12  5.79691464e-16]]\n",
      "Residual\n",
      "nan\n",
      "Maximum absolute value of weighted deviations\n",
      "nan\n"
     ]
    }
   ],
   "source": [
    "b_samples_1 = b_least_mc(cal_samples, b_linear_func)\n",
    "b_disp_cal_results_mc(b_samples_1)"
   ]
  },
  {
   "cell_type": "markdown",
   "metadata": {},
   "source": [
    "Evaluate the fit function with the coefficients at the measurement data"
   ]
  },
  {
   "cell_type": "code",
   "execution_count": 4,
   "metadata": {},
   "outputs": [
    {
     "name": "stdout",
     "output_type": "stream",
     "text": [
      "Measurement data:\n",
      "[[1.70030465e+00 2.01914258e-03 7.00003002e+04 4.00368574e+01]\n",
      " [8.98559166e+00 1.00445794e-02 3.69998576e+05 2.01394571e+02]]\n",
      "Covariance cov(x)\n",
      "[[4.07693675e-06 1.33301367e-05]\n",
      " [1.33301367e-05 1.00893574e-04]]\n"
     ]
    }
   ],
   "source": [
    "x_samples_1 = b_eval_mc(meas_samples, b_samples_1, b_linear_func)\n",
    "b_disp_meas_results_mc(x_samples_1, meas_samples)"
   ]
  },
  {
   "cell_type": "markdown",
   "metadata": {},
   "source": [
    "## Second order polynomial"
   ]
  },
  {
   "cell_type": "markdown",
   "metadata": {},
   "source": [
    "Fit coefficients of the fit function using the calibration data"
   ]
  },
  {
   "cell_type": "code",
   "execution_count": 5,
   "metadata": {},
   "outputs": [
    {
     "name": "stdout",
     "output_type": "stream",
     "text": [
      "Coefficients b\n",
      "[-1.38129864e-04  2.44013160e-05 -4.11108464e-13]\n",
      "Uncertainties u(b)\n",
      "[1.16204621e-03 5.88275758e-08 1.87518535e-13]\n",
      "Covariance cov(b)\n",
      "[[ 1.35035139e-06 -2.02420746e-11  4.60158957e-17]\n",
      " [-2.02420746e-11  3.46068368e-15 -1.00657459e-20]\n",
      " [ 4.60158957e-17 -1.00657459e-20  3.51632008e-26]]\n",
      "Residual\n",
      "nan\n",
      "Maximum absolute value of weighted deviations\n",
      "nan\n"
     ]
    }
   ],
   "source": [
    "b_samples_2 = b_least_mc(cal_samples, b_second_order_poly)\n",
    "b_disp_cal_results_mc(b_samples_2)"
   ]
  },
  {
   "cell_type": "markdown",
   "metadata": {},
   "source": [
    "Evaluate the fit function with the coefficients at the measurement data"
   ]
  },
  {
   "cell_type": "code",
   "execution_count": 6,
   "metadata": {},
   "outputs": [
    {
     "name": "stdout",
     "output_type": "stream",
     "text": [
      "Measurement data:\n",
      "[[1.70594686e+00 3.29195045e-03 7.00003002e+04 4.00368574e+01]\n",
      " [8.97203388e+00 1.17226760e-02 3.69998576e+05 2.01394571e+02]]\n",
      "Covariance cov(x)\n",
      "[[ 1.08369378e-05 -2.49501345e-06]\n",
      " [-2.49501345e-06  1.37421133e-04]]\n"
     ]
    }
   ],
   "source": [
    "x_samples_2 = b_eval_mc(meas_samples, b_samples_2, b_second_order_poly)\n",
    "b_disp_meas_results_mc(x_samples_2, meas_samples)"
   ]
  }
 ],
 "metadata": {
  "kernelspec": {
   "display_name": "Python 3",
   "language": "python",
   "name": "python3"
  },
  "language_info": {
   "codemirror_mode": {
    "name": "ipython",
    "version": 3
   },
   "file_extension": ".py",
   "mimetype": "text/x-python",
   "name": "python",
   "nbconvert_exporter": "python",
   "pygments_lexer": "ipython3",
   "version": "3.9.13"
  }
 },
 "nbformat": 4,
 "nbformat_minor": 2
}
