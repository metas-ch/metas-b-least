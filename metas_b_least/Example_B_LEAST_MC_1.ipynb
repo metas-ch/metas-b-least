{
 "cells": [
  {
   "cell_type": "markdown",
   "metadata": {},
   "source": [
    "# Example B LEAST Monte Carlo 1\n",
    "\n",
    "Michael Wollensack METAS - 08.11.2024"
   ]
  },
  {
   "cell_type": "code",
   "execution_count": 1,
   "metadata": {},
   "outputs": [],
   "source": [
    "from metas_b_least import *"
   ]
  },
  {
   "cell_type": "markdown",
   "metadata": {},
   "source": [
    "Calibration and measurement data"
   ]
  },
  {
   "cell_type": "code",
   "execution_count": 2,
   "metadata": {},
   "outputs": [
    {
     "name": "stdout",
     "output_type": "stream",
     "text": [
      "Calibration data:\n",
      "[[4.49996386e+00 4.55175253e-02 1.96918129e-01 3.95876162e-03]\n",
      " [1.87484840e+01 1.87866055e-01 7.87297625e-01 1.56226212e-02]\n",
      " [5.00061112e+01 5.01058388e-01 2.02246976e+00 4.01366360e-02]]\n"
     ]
    }
   ],
   "source": [
    "cal_data = b_read_cal_data(os.path.join(data_dir, 'b_least_1_data_cal.txt'))\n",
    "meas_data = b_read_meas_data(os.path.join(data_dir, 'b_least_1_data_meas.txt'))\n",
    "nsamples = 10000\n",
    "cal_samples = b_sample_cal_data_mc(cal_data, nsamples)\n",
    "meas_samples = b_sample_meas_data_mc(meas_data, nsamples) \n",
    "b_disp_cal_data_mc(cal_samples)"
   ]
  },
  {
   "cell_type": "markdown",
   "metadata": {},
   "source": [
    "Fit coefficients of the fit function using the calibration data"
   ]
  },
  {
   "cell_type": "code",
   "execution_count": 3,
   "metadata": {},
   "outputs": [
    {
     "name": "stdout",
     "output_type": "stream",
     "text": [
      "Coefficients b\n",
      "[-0.36139079 24.62514959]\n",
      "Uncertainties u(b)\n",
      "[0.15855795 0.47974287]\n",
      "Covariance cov(b)\n",
      "[[ 0.02514062 -0.05717815]\n",
      " [-0.05717815  0.23015322]]\n",
      "Residual\n",
      "nan\n",
      "Maximum absolute value of weighted deviations\n",
      "nan\n"
     ]
    }
   ],
   "source": [
    "b_samples = b_least_mc(cal_samples, b_linear_func)\n",
    "b_disp_cal_results_mc(b_samples)"
   ]
  },
  {
   "cell_type": "markdown",
   "metadata": {},
   "source": [
    "Evaluate the fit function with the coefficients at the measurement data"
   ]
  },
  {
   "cell_type": "code",
   "execution_count": 4,
   "metadata": {},
   "outputs": [
    {
     "name": "stdout",
     "output_type": "stream",
     "text": [
      "Measurement data:\n",
      "[[5.99114044e+00 1.65138375e-01 2.57971137e-01 5.13485410e-03]\n",
      " [1.44129315e+01 3.56568461e-01 5.99966599e-01 1.19497172e-02]\n",
      " [4.39767670e+01 1.16010097e+00 1.80053392e+00 3.62651748e-02]]\n",
      "Covariance cov(x)\n",
      "[[0.02727068 0.0116997  0.01507803]\n",
      " [0.0116997  0.12714107 0.13655595]\n",
      " [0.01507803 0.13655595 1.34583426]]\n"
     ]
    }
   ],
   "source": [
    "x_samples = b_eval_mc(meas_samples, b_samples, b_linear_func)\n",
    "b_disp_meas_results_mc(x_samples, meas_samples)"
   ]
  }
 ],
 "metadata": {
  "kernelspec": {
   "display_name": "Python 3",
   "language": "python",
   "name": "python3"
  },
  "language_info": {
   "codemirror_mode": {
    "name": "ipython",
    "version": 3
   },
   "file_extension": ".py",
   "mimetype": "text/x-python",
   "name": "python",
   "nbconvert_exporter": "python",
   "pygments_lexer": "ipython3",
   "version": "3.9.13"
  }
 },
 "nbformat": 4,
 "nbformat_minor": 2
}
